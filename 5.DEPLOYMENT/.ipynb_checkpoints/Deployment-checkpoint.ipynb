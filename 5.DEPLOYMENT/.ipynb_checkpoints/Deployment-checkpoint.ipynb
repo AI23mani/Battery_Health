{
 "cells": [
  {
   "cell_type": "markdown",
   "id": "c825db38-39f3-4e91-9731-b5fb4ce60081",
   "metadata": {},
   "source": [
    "# LOADED FINAL MODEL"
   ]
  },
  {
   "cell_type": "code",
   "execution_count": 1,
   "id": "24efcd7e-9a00-4516-ad79-181ffab148d6",
   "metadata": {},
   "outputs": [
    {
     "ename": "FileNotFoundError",
     "evalue": "[Errno 2] No such file or directory: 'best_battery_health_model_rf.sav'",
     "output_type": "error",
     "traceback": [
      "\u001b[1;31m---------------------------------------------------------------------------\u001b[0m",
      "\u001b[1;31mFileNotFoundError\u001b[0m                         Traceback (most recent call last)",
      "Cell \u001b[1;32mIn[1], line 4\u001b[0m\n\u001b[0;32m      2\u001b[0m filename \u001b[38;5;241m=\u001b[39m \u001b[38;5;124m\"\u001b[39m\u001b[38;5;124mbest_battery_health_model_rf.sav\u001b[39m\u001b[38;5;124m\"\u001b[39m\n\u001b[0;32m      3\u001b[0m \u001b[38;5;66;03m# Load the final model\u001b[39;00m\n\u001b[1;32m----> 4\u001b[0m loaded_model \u001b[38;5;241m=\u001b[39m pickle\u001b[38;5;241m.\u001b[39mload(\u001b[38;5;28mopen\u001b[39m(filename, \u001b[38;5;124m'\u001b[39m\u001b[38;5;124mrb\u001b[39m\u001b[38;5;124m'\u001b[39m))\n",
      "File \u001b[1;32m~\\Anaconda3\\envs\\iml\\Lib\\site-packages\\IPython\\core\\interactiveshell.py:310\u001b[0m, in \u001b[0;36m_modified_open\u001b[1;34m(file, *args, **kwargs)\u001b[0m\n\u001b[0;32m    303\u001b[0m \u001b[38;5;28;01mif\u001b[39;00m file \u001b[38;5;129;01min\u001b[39;00m {\u001b[38;5;241m0\u001b[39m, \u001b[38;5;241m1\u001b[39m, \u001b[38;5;241m2\u001b[39m}:\n\u001b[0;32m    304\u001b[0m     \u001b[38;5;28;01mraise\u001b[39;00m \u001b[38;5;167;01mValueError\u001b[39;00m(\n\u001b[0;32m    305\u001b[0m         \u001b[38;5;124mf\u001b[39m\u001b[38;5;124m\"\u001b[39m\u001b[38;5;124mIPython won\u001b[39m\u001b[38;5;124m'\u001b[39m\u001b[38;5;124mt let you open fd=\u001b[39m\u001b[38;5;132;01m{\u001b[39;00mfile\u001b[38;5;132;01m}\u001b[39;00m\u001b[38;5;124m by default \u001b[39m\u001b[38;5;124m\"\u001b[39m\n\u001b[0;32m    306\u001b[0m         \u001b[38;5;124m\"\u001b[39m\u001b[38;5;124mas it is likely to crash IPython. If you know what you are doing, \u001b[39m\u001b[38;5;124m\"\u001b[39m\n\u001b[0;32m    307\u001b[0m         \u001b[38;5;124m\"\u001b[39m\u001b[38;5;124myou can use builtins\u001b[39m\u001b[38;5;124m'\u001b[39m\u001b[38;5;124m open.\u001b[39m\u001b[38;5;124m\"\u001b[39m\n\u001b[0;32m    308\u001b[0m     )\n\u001b[1;32m--> 310\u001b[0m \u001b[38;5;28;01mreturn\u001b[39;00m io_open(file, \u001b[38;5;241m*\u001b[39margs, \u001b[38;5;241m*\u001b[39m\u001b[38;5;241m*\u001b[39mkwargs)\n",
      "\u001b[1;31mFileNotFoundError\u001b[0m: [Errno 2] No such file or directory: 'best_battery_health_model_rf.sav'"
     ]
    }
   ],
   "source": [
    "import pickle\n",
    "filename = \"best_battery_health_model_rf.sav\"\n",
    "# Load the final model\n",
    "loaded_model = pickle.load(open(filename, 'rb'))"
   ]
  },
  {
   "cell_type": "markdown",
   "id": "d0244b8f-a868-4a06-92a4-96a5e46bfb56",
   "metadata": {},
   "source": [
    "# Battery input data"
   ]
  },
  {
   "cell_type": "code",
   "execution_count": 7,
   "id": "ffadeccc-0069-468d-bc52-2f7ee02a0157",
   "metadata": {},
   "outputs": [
    {
     "name": "stdin",
     "output_type": "stream",
     "text": [
      "N:  120\n",
      "VOLTAGE:  12.7\n",
      "CCA:  875\n",
      "S.GRAVITY:  1.27\n",
      "BATTERY.LIFE_MONTH:  13\n",
      "CAPACITY_AH:  118\n"
     ]
    },
    {
     "name": "stdout",
     "output_type": "stream",
     "text": [
      "Future Battery Health: Charge_retest\n"
     ]
    },
    {
     "name": "stderr",
     "output_type": "stream",
     "text": [
      "C:\\Users\\MANIKA\\Anaconda3\\envs\\iml\\Lib\\site-packages\\sklearn\\base.py:493: UserWarning: X does not have valid feature names, but DecisionTreeRegressor was fitted with feature names\n",
      "  warnings.warn(\n"
     ]
    }
   ],
   "source": [
    "\n",
    "def get_categorical_prediction(prediction):\n",
    "    if prediction == 0:\n",
    "        return \"ok\"\n",
    "    elif prediction == 1:\n",
    "        return \"notok\"\n",
    "    else:\n",
    "        return \"Charge_retest\"\n",
    "\n",
    "# Example of using the function with input\n",
    "N = float(input(\"N: \"))\n",
    "VOLTAGE = float(input(\"VOLTAGE: \"))\n",
    "CCA = float(input(\"CCA: \"))\n",
    "S_GRAVITY = float(input(\"S.GRAVITY: \"))\n",
    "BATTERY_LIFE_MONTH = float(input(\"BATTERY.LIFE_MONTH: \"))\n",
    "CAPACITY_AH = float(input(\"CAPACITY_AH: \"))\n",
    "\n",
    "# Predict the future maintenance requirement\n",
    "future_prediction = loaded_model.predict([[N, VOLTAGE, CCA, S_GRAVITY, BATTERY_LIFE_MONTH, CAPACITY_AH]])\n",
    "predicted_category = get_categorical_prediction(future_prediction[0])\n",
    "\n",
    "print(f\"Future Battery Health: {predicted_category}\")"
   ]
  },
  {
   "cell_type": "code",
   "execution_count": null,
   "id": "1cf71e35-6d74-47c6-94ef-35c2f92dce19",
   "metadata": {},
   "outputs": [],
   "source": []
  }
 ],
 "metadata": {
  "kernelspec": {
   "display_name": "Python 3 (ipykernel)",
   "language": "python",
   "name": "python3"
  },
  "language_info": {
   "codemirror_mode": {
    "name": "ipython",
    "version": 3
   },
   "file_extension": ".py",
   "mimetype": "text/x-python",
   "name": "python",
   "nbconvert_exporter": "python",
   "pygments_lexer": "ipython3",
   "version": "3.11.7"
  }
 },
 "nbformat": 4,
 "nbformat_minor": 5
}
