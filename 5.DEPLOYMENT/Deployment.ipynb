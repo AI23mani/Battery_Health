{
 "cells": [
  {
   "cell_type": "markdown",
   "id": "c825db38-39f3-4e91-9731-b5fb4ce60081",
   "metadata": {},
   "source": [
    "# LOADED FINAL MODEL"
   ]
  },
  {
   "cell_type": "code",
   "execution_count": 1,
   "id": "24efcd7e-9a00-4516-ad79-181ffab148d6",
   "metadata": {},
   "outputs": [],
   "source": [
    "import pickle\n",
    "filename = \"best_battery_health_model_rf.sav\"\n",
    "# Load the final model\n",
    "loaded_model = pickle.load(open(filename, 'rb'))"
   ]
  },
  {
   "cell_type": "markdown",
   "id": "d0244b8f-a868-4a06-92a4-96a5e46bfb56",
   "metadata": {},
   "source": [
    "# Battery input data"
   ]
  },
  {
   "cell_type": "code",
   "execution_count": 7,
   "id": "ffadeccc-0069-468d-bc52-2f7ee02a0157",
   "metadata": {},
   "outputs": [
    {
     "name": "stdin",
     "output_type": "stream",
     "text": [
      "N:  120\n",
      "VOLTAGE:  12.7\n",
      "CCA:  875\n",
      "S.GRAVITY:  1.27\n",
      "BATTERY.LIFE_MONTH:  13\n",
      "CAPACITY_AH:  118\n"
     ]
    },
    {
     "name": "stdout",
     "output_type": "stream",
     "text": [
      "Future Battery Health: Charge_retest\n"
     ]
    },
    {
     "name": "stderr",
     "output_type": "stream",
     "text": [
      "C:\\Users\\MANIKA\\Anaconda3\\envs\\iml\\Lib\\site-packages\\sklearn\\base.py:493: UserWarning: X does not have valid feature names, but DecisionTreeRegressor was fitted with feature names\n",
      "  warnings.warn(\n"
     ]
    }
   ],
   "source": [
    "\n",
    "def get_categorical_prediction(prediction):\n",
    "    if prediction == 0:\n",
    "        return \"ok\"\n",
    "    elif prediction == 1:\n",
    "        return \"notok\"\n",
    "    else:\n",
    "        return \"Charge_retest\"\n",
    "\n",
    "# Example of using the function with input\n",
    "N = float(input(\"N: \"))\n",
    "VOLTAGE = float(input(\"VOLTAGE: \"))\n",
    "CCA = float(input(\"CCA: \"))\n",
    "S_GRAVITY = float(input(\"S.GRAVITY: \"))\n",
    "BATTERY_LIFE_MONTH = float(input(\"BATTERY.LIFE_MONTH: \"))\n",
    "CAPACITY_AH = float(input(\"CAPACITY_AH: \"))\n",
    "\n",
    "# Predict the future maintenance requirement\n",
    "future_prediction = loaded_model.predict([[N, VOLTAGE, CCA, S_GRAVITY, BATTERY_LIFE_MONTH, CAPACITY_AH]])\n",
    "predicted_category = get_categorical_prediction(future_prediction[0])\n",
    "\n",
    "print(f\"Future Battery Health: {predicted_category}\")"
   ]
  },
  {
   "cell_type": "code",
   "execution_count": null,
   "id": "1cf71e35-6d74-47c6-94ef-35c2f92dce19",
   "metadata": {},
   "outputs": [],
   "source": []
  }
 ],
 "metadata": {
  "kernelspec": {
   "display_name": "Python 3 (ipykernel)",
   "language": "python",
   "name": "python3"
  },
  "language_info": {
   "codemirror_mode": {
    "name": "ipython",
    "version": 3
   },
   "file_extension": ".py",
   "mimetype": "text/x-python",
   "name": "python",
   "nbconvert_exporter": "python",
   "pygments_lexer": "ipython3",
   "version": "3.11.7"
  }
 },
 "nbformat": 4,
 "nbformat_minor": 5
}
