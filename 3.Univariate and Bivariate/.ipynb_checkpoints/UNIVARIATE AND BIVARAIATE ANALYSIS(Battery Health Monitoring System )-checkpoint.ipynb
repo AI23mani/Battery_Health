{
 "cells": [
  {
   "cell_type": "code",
   "execution_count": 28,
   "id": "889ead8b",
   "metadata": {},
   "outputs": [
    {
     "name": "stdout",
     "output_type": "stream",
     "text": [
      "CSV file 'battery_data_full1.csv' has been successfully created.\n"
     ]
    }
   ],
   "source": [
    "import csv\n",
    "data = [\n",
    "    ['Battery type (N)', 'VOLTAGE', 'CCA', 'S.GRAVITY', 'BATTERY.LIFE (Month)', 'CAPACITY(AH)', 'STATUS'],\n",
    "    ['40', 12.8, 320, 1.275, 6, 40, 'OK'],\n",
    "    ['40', 12.8, 120, 1.275, 6, 20, 'NOT OK'],\n",
    "    ['40', 11, 120, 1.15, 6, 20, 'CHARGE RETEST'],\n",
    "    ['50', 12.8, 375, 1.275, 8, 50, 'OK'],\n",
    "    ['50', 10, 150, 1.28, 8, 10, 'NOT OK'],\n",
    "    ['50', 12.3, 250, 1.26, 12, 38, 'CHARGE RETEST'],\n",
    "    ['100', 12.8, 800, 1.275, 12, 100, 'OK'],\n",
    "    ['100', 12.7, 650, 1.27, 10, 90, 'OK'],\n",
    "    ['100', 11.5, 500, 1.24, 8, 80, 'NOT OK'],\n",
    "    ['100', 12.4, 700, 1.26, 9, 85, 'CHARGE RETEST'],\n",
    "    ['100', 12.9, 750, 1.28, 11, 95, 'OK'],\n",
    "    ['120', 12.8, 900, 1.275, 15, 120, 'OK'],\n",
    "    ['120', 12.5, 800, 1.27, 13, 110, 'OK'],\n",
    "    ['120', 11.8, 650, 1.25, 12, 100, 'NOT OK'],\n",
    "    ['120', 12.3, 850, 1.265, 14, 115, 'CHARGE RETEST'],\n",
    "    ['120', 12.7, 875, 1.27, 13, 118, 'OK'],\n",
    "    ['150', 12.9, 1100, 1.275, 20, 150, 'OK'],\n",
    "    ['150', 12.6, 950, 1.27, 18, 140, 'OK'],\n",
    "    ['150', 11.7, 800, 1.24, 16, 130, 'NOT OK'],\n",
    "    ['150', 12.4, 1000, 1.26, 19, 135, 'CHARGE RETEST'],\n",
    "    ['150', 12.8, 1050, 1.28, 21, 145, 'OK'],\n",
    "    ['200', 13.0, 1300, 1.275, 24, 200, 'OK'],\n",
    "    ['200', 12.5, 1150, 1.27, 22, 180, 'OK'],\n",
    "    ['200', 11.6, 950, 1.24, 20, 160, 'NOT OK'],\n",
    "    ['200', 12.2, 1200, 1.265, 23, 170, 'CHARGE RETEST'],\n",
    "    ['200', 12.9, 1250, 1.27, 25, 190, 'OK'],\n",
    "    ['100', 12.7, 700, 1.27, 10, 85, 'OK'],\n",
    "    ['100', 12.8, 750, 1.275, 11, 90, 'OK'],\n",
    "    ['100', 11.4, 550, 1.23, 9, 80, 'NOT OK'],\n",
    "    ['100', 12.3, 650, 1.26, 10, 75, 'CHARGE RETEST'],\n",
    "    ['100', 12.9, 800, 1.27, 11, 85, 'OK'],\n",
    "    ['40', 12.6, 300, 1.275, 7, 38, 'OK'],\n",
    "    ['40', 12.7, 110, 1.275, 7, 18, 'NOT OK'],\n",
    "    ['40', 11.1, 110, 1.15, 7, 18, 'CHARGE RETEST'],\n",
    "    ['50', 12.6, 350, 1.275, 9, 48, 'OK'],\n",
    "    ['50', 10.5, 130, 1.28, 9, 12, 'NOT OK'],\n",
    "    ['50', 12.2, 230, 1.26, 13, 36, 'CHARGE RETEST'],\n",
    "    ['100', 12.6, 750, 1.275, 13, 98, 'OK'],\n",
    "    ['100', 12.5, 625, 1.27, 11, 88, 'OK'],\n",
    "    ['100', 11.3, 475, 1.24, 9, 78, 'NOT OK'],\n",
    "    ['100', 12.2, 675, 1.26, 10, 83, 'CHARGE RETEST'],\n",
    "    ['100', 12.8, 725, 1.28, 12, 93, 'OK'],\n",
    "    ['120', 12.6, 875, 1.275, 16, 118, 'OK'],\n",
    "    ['120', 12.3, 775, 1.27, 14, 108, 'OK'],\n",
    "    ['120', 11.6, 625, 1.25, 13, 98, 'NOT OK'],\n",
    "    ['120', 12.2, 825, 1.265, 15, 113, 'CHARGE RETEST'],\n",
    "    ['120', 12.6, 850, 1.27, 14, 116, 'OK'],\n",
    "    ['150', 12.8, 1075, 1.275, 22, 148, 'OK'],\n",
    "    ['150', 12.5, 925, 1.27, 20, 138, 'OK'],\n",
    "    ['150', 11.8, 775, 1.24, 18, 128, 'NOT OK'],\n",
    "    ['150', 12.5, 975, 1.26, 21, 133, 'CHARGE RETEST'],\n",
    "    ['150', 12.7, 1025, 1.28, 23, 143, 'OK'],\n",
    "    ['200', 13.1, 1275, 1.275, 26, 198, 'OK'],\n",
    "    ['200', 12.6, 1125, 1.27, 24, 178, 'OK'],\n",
    "    ['200', 11.7, 925, 1.24, 22, 158, 'NOT OK'],\n",
    "    ['200', 12.3, 1175, 1.265, 25, 168, 'CHARGE RETEST'],\n",
    "    ['200', 13.0, 1225, 1.27, 27, 188, 'OK'],\n",
    "    ['100', 12.6, 725, 1.27, 11, 88, 'OK'],\n",
    "    ['100', 12.7, 775, 1.275, 12, 93, 'OK'],\n",
    "    ['100', 11.2, 575, 1.23, 10, 83, 'NOT OK'],\n",
    "    ['100', 12.2, 675, 1.26, 11, 78, 'CHARGE RETEST'],\n",
    "    ['100', 12.8, 825, 1.27, 12, 88, 'OK']\n",
    "]\n",
    "\n",
    "# Write data to CSV file\n",
    "with open('battery_data_full1.csv', mode='w', newline='') as file:\n",
    "    writer = csv.writer(file)\n",
    "    writer.writerows(data)\n",
    "\n",
    "print(\"CSV file 'battery_data_full1.csv' has been successfully created.\")"
   ]
  },
  {
   "cell_type": "code",
   "execution_count": 29,
   "id": "3aace0c4",
   "metadata": {},
   "outputs": [],
   "source": [
    "import pandas as pd\n",
    "dataset=pd.read_csv(\"battery_data_full1.csv\")"
   ]
  },
  {
   "cell_type": "code",
   "execution_count": 30,
   "id": "f7894de3",
   "metadata": {},
   "outputs": [
    {
     "data": {
      "text/html": [
       "<div>\n",
       "<style scoped>\n",
       "    .dataframe tbody tr th:only-of-type {\n",
       "        vertical-align: middle;\n",
       "    }\n",
       "\n",
       "    .dataframe tbody tr th {\n",
       "        vertical-align: top;\n",
       "    }\n",
       "\n",
       "    .dataframe thead th {\n",
       "        text-align: right;\n",
       "    }\n",
       "</style>\n",
       "<table border=\"1\" class=\"dataframe\">\n",
       "  <thead>\n",
       "    <tr style=\"text-align: right;\">\n",
       "      <th></th>\n",
       "      <th>Battery type (N)</th>\n",
       "      <th>VOLTAGE</th>\n",
       "      <th>CCA</th>\n",
       "      <th>S.GRAVITY</th>\n",
       "      <th>BATTERY.LIFE (Month)</th>\n",
       "      <th>CAPACITY(AH)</th>\n",
       "      <th>STATUS</th>\n",
       "    </tr>\n",
       "  </thead>\n",
       "  <tbody>\n",
       "    <tr>\n",
       "      <th>0</th>\n",
       "      <td>40</td>\n",
       "      <td>12.8</td>\n",
       "      <td>320</td>\n",
       "      <td>1.275</td>\n",
       "      <td>6</td>\n",
       "      <td>40</td>\n",
       "      <td>OK</td>\n",
       "    </tr>\n",
       "    <tr>\n",
       "      <th>1</th>\n",
       "      <td>40</td>\n",
       "      <td>12.8</td>\n",
       "      <td>120</td>\n",
       "      <td>1.275</td>\n",
       "      <td>6</td>\n",
       "      <td>20</td>\n",
       "      <td>NOT OK</td>\n",
       "    </tr>\n",
       "    <tr>\n",
       "      <th>2</th>\n",
       "      <td>40</td>\n",
       "      <td>11.0</td>\n",
       "      <td>120</td>\n",
       "      <td>1.150</td>\n",
       "      <td>6</td>\n",
       "      <td>20</td>\n",
       "      <td>CHARGE RETEST</td>\n",
       "    </tr>\n",
       "    <tr>\n",
       "      <th>3</th>\n",
       "      <td>50</td>\n",
       "      <td>12.8</td>\n",
       "      <td>375</td>\n",
       "      <td>1.275</td>\n",
       "      <td>8</td>\n",
       "      <td>50</td>\n",
       "      <td>OK</td>\n",
       "    </tr>\n",
       "    <tr>\n",
       "      <th>4</th>\n",
       "      <td>50</td>\n",
       "      <td>10.0</td>\n",
       "      <td>150</td>\n",
       "      <td>1.280</td>\n",
       "      <td>8</td>\n",
       "      <td>10</td>\n",
       "      <td>NOT OK</td>\n",
       "    </tr>\n",
       "    <tr>\n",
       "      <th>...</th>\n",
       "      <td>...</td>\n",
       "      <td>...</td>\n",
       "      <td>...</td>\n",
       "      <td>...</td>\n",
       "      <td>...</td>\n",
       "      <td>...</td>\n",
       "      <td>...</td>\n",
       "    </tr>\n",
       "    <tr>\n",
       "      <th>57</th>\n",
       "      <td>100</td>\n",
       "      <td>12.6</td>\n",
       "      <td>725</td>\n",
       "      <td>1.270</td>\n",
       "      <td>11</td>\n",
       "      <td>88</td>\n",
       "      <td>OK</td>\n",
       "    </tr>\n",
       "    <tr>\n",
       "      <th>58</th>\n",
       "      <td>100</td>\n",
       "      <td>12.7</td>\n",
       "      <td>775</td>\n",
       "      <td>1.275</td>\n",
       "      <td>12</td>\n",
       "      <td>93</td>\n",
       "      <td>OK</td>\n",
       "    </tr>\n",
       "    <tr>\n",
       "      <th>59</th>\n",
       "      <td>100</td>\n",
       "      <td>11.2</td>\n",
       "      <td>575</td>\n",
       "      <td>1.230</td>\n",
       "      <td>10</td>\n",
       "      <td>83</td>\n",
       "      <td>NOT OK</td>\n",
       "    </tr>\n",
       "    <tr>\n",
       "      <th>60</th>\n",
       "      <td>100</td>\n",
       "      <td>12.2</td>\n",
       "      <td>675</td>\n",
       "      <td>1.260</td>\n",
       "      <td>11</td>\n",
       "      <td>78</td>\n",
       "      <td>CHARGE RETEST</td>\n",
       "    </tr>\n",
       "    <tr>\n",
       "      <th>61</th>\n",
       "      <td>100</td>\n",
       "      <td>12.8</td>\n",
       "      <td>825</td>\n",
       "      <td>1.270</td>\n",
       "      <td>12</td>\n",
       "      <td>88</td>\n",
       "      <td>OK</td>\n",
       "    </tr>\n",
       "  </tbody>\n",
       "</table>\n",
       "<p>62 rows × 7 columns</p>\n",
       "</div>"
      ],
      "text/plain": [
       "    Battery type (N)  VOLTAGE  CCA  S.GRAVITY  BATTERY.LIFE (Month)  \\\n",
       "0                 40     12.8  320      1.275                     6   \n",
       "1                 40     12.8  120      1.275                     6   \n",
       "2                 40     11.0  120      1.150                     6   \n",
       "3                 50     12.8  375      1.275                     8   \n",
       "4                 50     10.0  150      1.280                     8   \n",
       "..               ...      ...  ...        ...                   ...   \n",
       "57               100     12.6  725      1.270                    11   \n",
       "58               100     12.7  775      1.275                    12   \n",
       "59               100     11.2  575      1.230                    10   \n",
       "60               100     12.2  675      1.260                    11   \n",
       "61               100     12.8  825      1.270                    12   \n",
       "\n",
       "    CAPACITY(AH)         STATUS  \n",
       "0             40             OK  \n",
       "1             20         NOT OK  \n",
       "2             20  CHARGE RETEST  \n",
       "3             50             OK  \n",
       "4             10         NOT OK  \n",
       "..           ...            ...  \n",
       "57            88             OK  \n",
       "58            93             OK  \n",
       "59            83         NOT OK  \n",
       "60            78  CHARGE RETEST  \n",
       "61            88             OK  \n",
       "\n",
       "[62 rows x 7 columns]"
      ]
     },
     "execution_count": 30,
     "metadata": {},
     "output_type": "execute_result"
    }
   ],
   "source": [
    "dataset"
   ]
  },
  {
   "cell_type": "markdown",
   "id": "0f59fded",
   "metadata": {},
   "source": [
    "# Battery Health Monitoring System Project Detailed Description of Each Column\n",
    "1.BATTERY_TYPE:\n",
    "\n",
    "Description: This column indicates the type or model of the battery. It uses codes like N40, N50, N100, N120, N150, and N200 to represent different battery models, each with different capacities and specifications.\n",
    "Example Values: N40, N50, N100, N120, N150, N200.\n",
    "VOLTAGE:\n",
    "\n",
    "2.Description: This column represents the voltage of the battery measured in volts (V). It indicates the electrical potential difference the battery can provide. Typical values are around 12.8V for fully charged automotive batteries.\n",
    "Example Values: 12.8, 12.5, 11.6.\n",
    "CCA (Cold Cranking Amps):\n",
    "\n",
    "Description: This column measures the Cold Cranking Amps (CCA) of the battery, which is the amount of current the battery can provide at 0°F (-18°C) for 30 seconds while maintaining at least 7.2 volts. It's a key measure of a battery's ability to start an engine in cold temperatures.\n",
    "Example Values: 320, 800, 1000.\n",
    "\n",
    "3.Specific.GRAVITY (Specific Gravity):\n",
    "\n",
    "Description: This column indicates the specific gravity of the electrolyte solution in the battery, which is a measure of the density of the sulfuric acid in the battery compared to water. It is typically measured with a hydrometer and provides information about the battery's state of charge.\n",
    "Example Values: 1.275, 1.27, 1.24.\n",
    "\n",
    "4.BATTERY.LIFE:\n",
    "\n",
    "Description: This column represents the age or expected lifespan of the battery, often given in months. It indicates how long the battery has been in use or is expected to last under normal conditions.\n",
    "Example Values: 6 MONTH, 12 MONTH, 24 MONTH.\n",
    "\n",
    "5.CAPACITY(AH):\n",
    "\n",
    "Description: This column indicates the capacity of the battery measured in ampere-hours (AH). It represents the total amount of electric charge the battery can deliver at a specific voltage. Higher capacity means the battery can provide power for a longer period.\n",
    "Example Values: 40, 100, 150.\n",
    "\n",
    "6.STATUS:\n",
    "\n",
    "Description: This column indicates the current condition or usability of the battery. It can have values like \"OK,\" \"NOT OK,\" \"CHARGE RETEST,\" etc., indicating whether the battery is in good condition, needs charging, or should be retested for usability.\n",
    "Example Values: OK, NOT OK, CHARGE RETEST."
   ]
  },
  {
   "cell_type": "code",
   "execution_count": 31,
   "id": "94cdc5c7",
   "metadata": {},
   "outputs": [
    {
     "name": "stdout",
     "output_type": "stream",
     "text": [
      "<class 'pandas.core.frame.DataFrame'>\n",
      "RangeIndex: 62 entries, 0 to 61\n",
      "Data columns (total 7 columns):\n",
      " #   Column                Non-Null Count  Dtype  \n",
      "---  ------                --------------  -----  \n",
      " 0   Battery type (N)      62 non-null     int64  \n",
      " 1   VOLTAGE               62 non-null     float64\n",
      " 2   CCA                   62 non-null     int64  \n",
      " 3   S.GRAVITY             62 non-null     float64\n",
      " 4   BATTERY.LIFE (Month)  62 non-null     int64  \n",
      " 5   CAPACITY(AH)          62 non-null     int64  \n",
      " 6   STATUS                62 non-null     object \n",
      "dtypes: float64(2), int64(4), object(1)\n",
      "memory usage: 3.5+ KB\n"
     ]
    }
   ],
   "source": [
    "dataset.info()"
   ]
  },
  {
   "cell_type": "code",
   "execution_count": 32,
   "id": "9175a30e",
   "metadata": {},
   "outputs": [
    {
     "data": {
      "text/plain": [
       "Battery type (N)          int64\n",
       "VOLTAGE                 float64\n",
       "CCA                       int64\n",
       "S.GRAVITY               float64\n",
       "BATTERY.LIFE (Month)      int64\n",
       "CAPACITY(AH)              int64\n",
       "STATUS                   object\n",
       "dtype: object"
      ]
     },
     "execution_count": 32,
     "metadata": {},
     "output_type": "execute_result"
    }
   ],
   "source": [
    "dataset.dtypes"
   ]
  },
  {
   "cell_type": "markdown",
   "id": "cbf14196",
   "metadata": {},
   "source": [
    "# To check for null values in a dataset "
   ]
  },
  {
   "cell_type": "code",
   "execution_count": 33,
   "id": "6df8f388",
   "metadata": {},
   "outputs": [
    {
     "data": {
      "text/plain": [
       "Battery type (N)        0\n",
       "VOLTAGE                 0\n",
       "CCA                     0\n",
       "S.GRAVITY               0\n",
       "BATTERY.LIFE (Month)    0\n",
       "CAPACITY(AH)            0\n",
       "STATUS                  0\n",
       "dtype: int64"
      ]
     },
     "execution_count": 33,
     "metadata": {},
     "output_type": "execute_result"
    }
   ],
   "source": [
    "dataset.isnull().sum()"
   ]
  },
  {
   "cell_type": "code",
   "execution_count": 34,
   "id": "d17d19be",
   "metadata": {},
   "outputs": [
    {
     "data": {
      "text/html": [
       "<div>\n",
       "<style scoped>\n",
       "    .dataframe tbody tr th:only-of-type {\n",
       "        vertical-align: middle;\n",
       "    }\n",
       "\n",
       "    .dataframe tbody tr th {\n",
       "        vertical-align: top;\n",
       "    }\n",
       "\n",
       "    .dataframe thead th {\n",
       "        text-align: right;\n",
       "    }\n",
       "</style>\n",
       "<table border=\"1\" class=\"dataframe\">\n",
       "  <thead>\n",
       "    <tr style=\"text-align: right;\">\n",
       "      <th></th>\n",
       "      <th>Battery type (N)</th>\n",
       "      <th>VOLTAGE</th>\n",
       "      <th>CCA</th>\n",
       "      <th>S.GRAVITY</th>\n",
       "      <th>BATTERY.LIFE (Month)</th>\n",
       "      <th>CAPACITY(AH)</th>\n",
       "    </tr>\n",
       "  </thead>\n",
       "  <tbody>\n",
       "    <tr>\n",
       "      <th>count</th>\n",
       "      <td>62.000000</td>\n",
       "      <td>62.000000</td>\n",
       "      <td>62.000000</td>\n",
       "      <td>62.000000</td>\n",
       "      <td>62.000000</td>\n",
       "      <td>62.000000</td>\n",
       "    </tr>\n",
       "    <tr>\n",
       "      <th>mean</th>\n",
       "      <td>116.774194</td>\n",
       "      <td>12.317742</td>\n",
       "      <td>734.112903</td>\n",
       "      <td>1.261935</td>\n",
       "      <td>14.274194</td>\n",
       "      <td>102.887097</td>\n",
       "    </tr>\n",
       "    <tr>\n",
       "      <th>std</th>\n",
       "      <td>49.282531</td>\n",
       "      <td>0.640319</td>\n",
       "      <td>321.884212</td>\n",
       "      <td>0.024316</td>\n",
       "      <td>5.884599</td>\n",
       "      <td>49.352232</td>\n",
       "    </tr>\n",
       "    <tr>\n",
       "      <th>min</th>\n",
       "      <td>40.000000</td>\n",
       "      <td>10.000000</td>\n",
       "      <td>110.000000</td>\n",
       "      <td>1.150000</td>\n",
       "      <td>6.000000</td>\n",
       "      <td>10.000000</td>\n",
       "    </tr>\n",
       "    <tr>\n",
       "      <th>25%</th>\n",
       "      <td>100.000000</td>\n",
       "      <td>12.200000</td>\n",
       "      <td>587.500000</td>\n",
       "      <td>1.260000</td>\n",
       "      <td>10.000000</td>\n",
       "      <td>80.000000</td>\n",
       "    </tr>\n",
       "    <tr>\n",
       "      <th>50%</th>\n",
       "      <td>100.000000</td>\n",
       "      <td>12.550000</td>\n",
       "      <td>775.000000</td>\n",
       "      <td>1.270000</td>\n",
       "      <td>12.500000</td>\n",
       "      <td>98.000000</td>\n",
       "    </tr>\n",
       "    <tr>\n",
       "      <th>75%</th>\n",
       "      <td>150.000000</td>\n",
       "      <td>12.800000</td>\n",
       "      <td>943.750000</td>\n",
       "      <td>1.275000</td>\n",
       "      <td>19.750000</td>\n",
       "      <td>137.250000</td>\n",
       "    </tr>\n",
       "    <tr>\n",
       "      <th>max</th>\n",
       "      <td>200.000000</td>\n",
       "      <td>13.100000</td>\n",
       "      <td>1300.000000</td>\n",
       "      <td>1.280000</td>\n",
       "      <td>27.000000</td>\n",
       "      <td>200.000000</td>\n",
       "    </tr>\n",
       "  </tbody>\n",
       "</table>\n",
       "</div>"
      ],
      "text/plain": [
       "       Battery type (N)    VOLTAGE          CCA  S.GRAVITY  \\\n",
       "count         62.000000  62.000000    62.000000  62.000000   \n",
       "mean         116.774194  12.317742   734.112903   1.261935   \n",
       "std           49.282531   0.640319   321.884212   0.024316   \n",
       "min           40.000000  10.000000   110.000000   1.150000   \n",
       "25%          100.000000  12.200000   587.500000   1.260000   \n",
       "50%          100.000000  12.550000   775.000000   1.270000   \n",
       "75%          150.000000  12.800000   943.750000   1.275000   \n",
       "max          200.000000  13.100000  1300.000000   1.280000   \n",
       "\n",
       "       BATTERY.LIFE (Month)  CAPACITY(AH)  \n",
       "count             62.000000     62.000000  \n",
       "mean              14.274194    102.887097  \n",
       "std                5.884599     49.352232  \n",
       "min                6.000000     10.000000  \n",
       "25%               10.000000     80.000000  \n",
       "50%               12.500000     98.000000  \n",
       "75%               19.750000    137.250000  \n",
       "max               27.000000    200.000000  "
      ]
     },
     "execution_count": 34,
     "metadata": {},
     "output_type": "execute_result"
    }
   ],
   "source": [
    "dataset.describe()"
   ]
  },
  {
   "cell_type": "code",
   "execution_count": 35,
   "id": "69f2ab36",
   "metadata": {},
   "outputs": [],
   "source": [
    "quan=[]\n",
    "qual=[]\n",
    "for columnName in dataset.columns:\n",
    "    #print(columnName)\n",
    "    if (dataset[columnName].dtype=='object'):\n",
    "       # print(\"qual\")\n",
    "        qual.append(columnName)   \n",
    "    else:\n",
    "        #print(\"quan\")\n",
    "        quan.append(columnName)  \n"
   ]
  },
  {
   "cell_type": "code",
   "execution_count": 36,
   "id": "2efe53d5",
   "metadata": {},
   "outputs": [
    {
     "data": {
      "text/plain": [
       "['Battery type (N)',\n",
       " 'VOLTAGE',\n",
       " 'CCA',\n",
       " 'S.GRAVITY',\n",
       " 'BATTERY.LIFE (Month)',\n",
       " 'CAPACITY(AH)']"
      ]
     },
     "execution_count": 36,
     "metadata": {},
     "output_type": "execute_result"
    }
   ],
   "source": [
    "quan"
   ]
  },
  {
   "cell_type": "code",
   "execution_count": 37,
   "id": "6c1223da",
   "metadata": {},
   "outputs": [
    {
     "data": {
      "text/plain": [
       "['STATUS']"
      ]
     },
     "execution_count": 37,
     "metadata": {},
     "output_type": "execute_result"
    }
   ],
   "source": [
    "qual"
   ]
  },
  {
   "cell_type": "code",
   "execution_count": 38,
   "id": "aa90b8a9",
   "metadata": {},
   "outputs": [],
   "source": [
    "import numpy as np"
   ]
  },
  {
   "cell_type": "code",
   "execution_count": 39,
   "id": "72415df4",
   "metadata": {},
   "outputs": [],
   "source": [
    "descriptive=pd.DataFrame(index=[\"Mean\",\"Median\",\"Mode\",\"Q1:25%\",\"Q2:50%\",\"Q3:75%\",\"99\",\"Q4:100%\",\"IQR\",\n",
    "                               \"1.5Rule\",\"Lesser\",\"Greater\",\"Min\",\"Max\"],columns=quan)\n",
    "for coulmnName in quan:\n",
    "    descriptive[coulmnName][\"Mean\"]=dataset[coulmnName].mean()\n",
    "    descriptive[coulmnName][\"Median\"]=dataset[coulmnName].median()\n",
    "    descriptive[coulmnName][\"Mode\"]=dataset[coulmnName].mode()[0]\n",
    "    descriptive[coulmnName][\"Q1:25%\"]=dataset.describe()[coulmnName][\"25%\"]\n",
    "    descriptive[coulmnName][\"Q2:50%\"]=dataset.describe()[coulmnName][\"50%\"]\n",
    "    descriptive[coulmnName][\"Q3:75%\"]=dataset.describe()[coulmnName][\"75%\"]\n",
    "    descriptive[coulmnName][\"99\"]=np.percentile(dataset[coulmnName],99)\n",
    "    descriptive[coulmnName][\"Q4:100%\"]=dataset.describe()[coulmnName][\"max\"]\n",
    "    descriptive[coulmnName][\"IQR\"]= descriptive[coulmnName][\"Q3:75%\"]-descriptive[coulmnName][\"Q1:25%\"]\n",
    "    descriptive[coulmnName][\"1.5Rule\"]=1.5*descriptive[coulmnName][\"IQR\"]\n",
    "    descriptive[coulmnName][\"Lesser\"]=descriptive[coulmnName][\"Q1:25%\"]-descriptive[coulmnName][\"1.5Rule\"]\n",
    "    descriptive[coulmnName][\"Greater\"]=descriptive[coulmnName][\"Q3:75%\"]+ descriptive[coulmnName][\"1.5Rule\"]\n",
    "    descriptive[coulmnName][\"Min\"]=dataset[coulmnName].min()\n",
    "    descriptive[coulmnName][\"Max\"]=dataset[coulmnName].max()"
   ]
  },
  {
   "cell_type": "code",
   "execution_count": 40,
   "id": "aec082b2",
   "metadata": {},
   "outputs": [
    {
     "data": {
      "text/html": [
       "<div>\n",
       "<style scoped>\n",
       "    .dataframe tbody tr th:only-of-type {\n",
       "        vertical-align: middle;\n",
       "    }\n",
       "\n",
       "    .dataframe tbody tr th {\n",
       "        vertical-align: top;\n",
       "    }\n",
       "\n",
       "    .dataframe thead th {\n",
       "        text-align: right;\n",
       "    }\n",
       "</style>\n",
       "<table border=\"1\" class=\"dataframe\">\n",
       "  <thead>\n",
       "    <tr style=\"text-align: right;\">\n",
       "      <th></th>\n",
       "      <th>Battery type (N)</th>\n",
       "      <th>VOLTAGE</th>\n",
       "      <th>CCA</th>\n",
       "      <th>S.GRAVITY</th>\n",
       "      <th>BATTERY.LIFE (Month)</th>\n",
       "      <th>CAPACITY(AH)</th>\n",
       "    </tr>\n",
       "  </thead>\n",
       "  <tbody>\n",
       "    <tr>\n",
       "      <th>Mean</th>\n",
       "      <td>116.774194</td>\n",
       "      <td>12.317742</td>\n",
       "      <td>734.112903</td>\n",
       "      <td>1.261935</td>\n",
       "      <td>14.274194</td>\n",
       "      <td>102.887097</td>\n",
       "    </tr>\n",
       "    <tr>\n",
       "      <th>Median</th>\n",
       "      <td>100.0</td>\n",
       "      <td>12.55</td>\n",
       "      <td>775.0</td>\n",
       "      <td>1.27</td>\n",
       "      <td>12.5</td>\n",
       "      <td>98.0</td>\n",
       "    </tr>\n",
       "    <tr>\n",
       "      <th>Mode</th>\n",
       "      <td>100</td>\n",
       "      <td>12.8</td>\n",
       "      <td>800</td>\n",
       "      <td>1.27</td>\n",
       "      <td>11</td>\n",
       "      <td>85</td>\n",
       "    </tr>\n",
       "    <tr>\n",
       "      <th>Q1:25%</th>\n",
       "      <td>100.0</td>\n",
       "      <td>12.2</td>\n",
       "      <td>587.5</td>\n",
       "      <td>1.26</td>\n",
       "      <td>10.0</td>\n",
       "      <td>80.0</td>\n",
       "    </tr>\n",
       "    <tr>\n",
       "      <th>Q2:50%</th>\n",
       "      <td>100.0</td>\n",
       "      <td>12.55</td>\n",
       "      <td>775.0</td>\n",
       "      <td>1.27</td>\n",
       "      <td>12.5</td>\n",
       "      <td>98.0</td>\n",
       "    </tr>\n",
       "    <tr>\n",
       "      <th>Q3:75%</th>\n",
       "      <td>150.0</td>\n",
       "      <td>12.8</td>\n",
       "      <td>943.75</td>\n",
       "      <td>1.275</td>\n",
       "      <td>19.75</td>\n",
       "      <td>137.25</td>\n",
       "    </tr>\n",
       "    <tr>\n",
       "      <th>99</th>\n",
       "      <td>200.0</td>\n",
       "      <td>13.039</td>\n",
       "      <td>1284.75</td>\n",
       "      <td>1.28</td>\n",
       "      <td>26.39</td>\n",
       "      <td>198.78</td>\n",
       "    </tr>\n",
       "    <tr>\n",
       "      <th>Q4:100%</th>\n",
       "      <td>200.0</td>\n",
       "      <td>13.1</td>\n",
       "      <td>1300.0</td>\n",
       "      <td>1.28</td>\n",
       "      <td>27.0</td>\n",
       "      <td>200.0</td>\n",
       "    </tr>\n",
       "    <tr>\n",
       "      <th>IQR</th>\n",
       "      <td>50.0</td>\n",
       "      <td>0.6</td>\n",
       "      <td>356.25</td>\n",
       "      <td>0.015</td>\n",
       "      <td>9.75</td>\n",
       "      <td>57.25</td>\n",
       "    </tr>\n",
       "    <tr>\n",
       "      <th>1.5Rule</th>\n",
       "      <td>75.0</td>\n",
       "      <td>0.9</td>\n",
       "      <td>534.375</td>\n",
       "      <td>0.0225</td>\n",
       "      <td>14.625</td>\n",
       "      <td>85.875</td>\n",
       "    </tr>\n",
       "    <tr>\n",
       "      <th>Lesser</th>\n",
       "      <td>25.0</td>\n",
       "      <td>11.3</td>\n",
       "      <td>53.125</td>\n",
       "      <td>1.2375</td>\n",
       "      <td>-4.625</td>\n",
       "      <td>-5.875</td>\n",
       "    </tr>\n",
       "    <tr>\n",
       "      <th>Greater</th>\n",
       "      <td>225.0</td>\n",
       "      <td>13.7</td>\n",
       "      <td>1478.125</td>\n",
       "      <td>1.2975</td>\n",
       "      <td>34.375</td>\n",
       "      <td>223.125</td>\n",
       "    </tr>\n",
       "    <tr>\n",
       "      <th>Min</th>\n",
       "      <td>40</td>\n",
       "      <td>10.0</td>\n",
       "      <td>110</td>\n",
       "      <td>1.15</td>\n",
       "      <td>6</td>\n",
       "      <td>10</td>\n",
       "    </tr>\n",
       "    <tr>\n",
       "      <th>Max</th>\n",
       "      <td>200</td>\n",
       "      <td>13.1</td>\n",
       "      <td>1300</td>\n",
       "      <td>1.28</td>\n",
       "      <td>27</td>\n",
       "      <td>200</td>\n",
       "    </tr>\n",
       "  </tbody>\n",
       "</table>\n",
       "</div>"
      ],
      "text/plain": [
       "        Battery type (N)    VOLTAGE         CCA S.GRAVITY  \\\n",
       "Mean          116.774194  12.317742  734.112903  1.261935   \n",
       "Median             100.0      12.55       775.0      1.27   \n",
       "Mode                 100       12.8         800      1.27   \n",
       "Q1:25%             100.0       12.2       587.5      1.26   \n",
       "Q2:50%             100.0      12.55       775.0      1.27   \n",
       "Q3:75%             150.0       12.8      943.75     1.275   \n",
       "99                 200.0     13.039     1284.75      1.28   \n",
       "Q4:100%            200.0       13.1      1300.0      1.28   \n",
       "IQR                 50.0        0.6      356.25     0.015   \n",
       "1.5Rule             75.0        0.9     534.375    0.0225   \n",
       "Lesser              25.0       11.3      53.125    1.2375   \n",
       "Greater            225.0       13.7    1478.125    1.2975   \n",
       "Min                   40       10.0         110      1.15   \n",
       "Max                  200       13.1        1300      1.28   \n",
       "\n",
       "        BATTERY.LIFE (Month) CAPACITY(AH)  \n",
       "Mean               14.274194   102.887097  \n",
       "Median                  12.5         98.0  \n",
       "Mode                      11           85  \n",
       "Q1:25%                  10.0         80.0  \n",
       "Q2:50%                  12.5         98.0  \n",
       "Q3:75%                 19.75       137.25  \n",
       "99                     26.39       198.78  \n",
       "Q4:100%                 27.0        200.0  \n",
       "IQR                     9.75        57.25  \n",
       "1.5Rule               14.625       85.875  \n",
       "Lesser                -4.625       -5.875  \n",
       "Greater               34.375      223.125  \n",
       "Min                        6           10  \n",
       "Max                       27          200  "
      ]
     },
     "execution_count": 40,
     "metadata": {},
     "output_type": "execute_result"
    }
   ],
   "source": [
    "descriptive"
   ]
  },
  {
   "cell_type": "code",
   "execution_count": 41,
   "id": "9f911ef2",
   "metadata": {},
   "outputs": [],
   "source": [
    "def Univariate(dataset,quan):\n",
    "    descriptive=pd.DataFrame(index=[\"MEAN\",\"MEDIAN\",\"MODE\",\"Q1:25%\",\"Q2:50%\",\"Q3:75%\",\n",
    "                                    \"99%\",\"Q4:100%\",\"IQR\",\"1.5 rule\",\n",
    "                                    \"Lesser\",\"Greater\",\"Min\",\"Max\",\"skew\",\"kurtosis\",\"var\",\"std\"],columns=quan)\n",
    "    for columName in quan:\n",
    "        descriptive[columName][\"MEAN\"]=dataset[columName].mean()\n",
    "        descriptive[columName][\"MEDIAN\"]=dataset[columName].median()\n",
    "        descriptive[columName][\"MODE\"]=dataset[columName].mode()[0]\n",
    "        descriptive[columName][\"Q1:25%\"]=dataset.describe()[columName][\"25%\"]\n",
    "        descriptive[columName][\"Q2:50%\"]=dataset.describe()[columName][\"50%\"]\n",
    "        descriptive[columName][\"Q3:75%\"]=dataset.describe()[columName][\"75%\"]\n",
    "        descriptive[columName][\"99%\"]=np.percentile(dataset[columName],99)\n",
    "        descriptive[columName][\"Q4:100%\"]=dataset.describe()[columName][\"max\"]\n",
    "        descriptive[columName][\"IQR\"]=descriptive[columName][\"Q3:75%\"]- descriptive[columName][\"Q1:25%\"]\n",
    "        descriptive[columName][\"1.5 rule\"]=1.5* descriptive[columName][\"IQR\"]\n",
    "        descriptive[columName][\"Lesser\"]=descriptive[columName][\"Q1:25%\"]- descriptive[columName][\"1.5 rule\"]\n",
    "        descriptive[columName][\"Greater\"]=descriptive[columName][\"Q3:75%\"]+ descriptive[columName][\"1.5 rule\"]\n",
    "        descriptive[columName][\"Min\"]=dataset[columName].min()\n",
    "        descriptive[columName][\"Max\"]=dataset[columName].max()\n",
    "        descriptive[columName][\"skew\"]=dataset[columName].skew()\n",
    "        descriptive[columName][\"kurtosis\"]=dataset[columName].kurtosis()\n",
    "        descriptive[columName][\"var\"]=dataset[columName].var()\n",
    "        descriptive[columName][\"std\"]=dataset[columName].std()\n",
    "    return descriptive\n",
    "    "
   ]
  },
  {
   "cell_type": "markdown",
   "id": "ad0219e6",
   "metadata": {},
   "source": [
    "# Univariate Analysis"
   ]
  },
  {
   "cell_type": "code",
   "execution_count": 45,
   "id": "d3dd773b",
   "metadata": {},
   "outputs": [],
   "source": [
    "\n",
    "# Correct the column names\n",
    "dataset.columns = ['Battery type (N)', 'VOLTAGE', 'CCA', 'S.GRAVITY', 'BATTERY.LIFE (Month)', 'CAPACITY(AH)', 'STATUS']"
   ]
  },
  {
   "cell_type": "code",
   "execution_count": 46,
   "id": "8c37ce37",
   "metadata": {},
   "outputs": [
    {
     "name": "stdout",
     "output_type": "stream",
     "text": [
      "Battery Type Frequencies:\n",
      " 100    20\n",
      "120    10\n",
      "150    10\n",
      "200    10\n",
      "40      6\n",
      "50      6\n",
      "Name: Battery type (N), dtype: int64\n"
     ]
    },
    {
     "data": {
      "image/png": "[encoded data removed]",
      "text/plain": [
       "<Figure size 800x600 with 1 Axes>"
      ]
     },
     "metadata": {},
     "output_type": "display_data"
    }
   ],
   "source": [
    "\n",
    "# Correct the column names\n",
    "dataset.columns = ['Battery type (N)', 'VOLTAGE', 'CCA', 'S.GRAVITY', 'BATTERY.LIFE (Month)', 'CAPACITY(AH)', 'STATUS']\n",
    "\n",
    "# Univariate Analysis for Battery Type (N)\n",
    "battery_type_counts = dataset['Battery type (N)'].value_counts()\n",
    "print(\"Battery Type Frequencies:\\n\", battery_type_counts)\n",
    "\n",
    "# Plotting\n",
    "plt.figure(figsize=(8, 6))\n",
    "battery_type_counts.plot(kind='bar', color='skyblue')\n",
    "plt.title('Frequency of Battery Types')\n",
    "plt.xlabel('Battery Type (N)')\n",
    "plt.ylabel('Frequency')\n",
    "plt.xticks(rotation=0)\n",
    "plt.show()"
   ]
  },
  {
   "cell_type": "markdown",
   "id": "37940211",
   "metadata": {},
   "source": [
    "# What is the distribution of battery types?"
   ]
  },
  {
   "cell_type": "code",
   "execution_count": 47,
   "id": "f6b0287b",
   "metadata": {},
   "outputs": [
    {
     "data": {
      "image/png": "[encoded data removed]",
      "text/plain": [
       "<Figure size 1000x600 with 1 Axes>"
      ]
     },
     "metadata": {},
     "output_type": "display_data"
    }
   ],
   "source": [
    "import matplotlib.pyplot as plt\n",
    "import seaborn as sns\n",
    "\n",
    "# Distribution of battery types\n",
    "plt.figure(figsize=(10, 6))\n",
    "sns.countplot(x='Battery type (N)', data=dataset, palette=\"viridis\")\n",
    "plt.title(\"Distribution of Battery Types\")\n",
    "plt.xlabel(\"Battery Type\")\n",
    "plt.ylabel(\"Count\")\n",
    "plt.show()\n"
   ]
  },
  {
   "cell_type": "markdown",
   "id": "eeda3bd6",
   "metadata": {},
   "source": [
    "# What are the summary statistics for the specific gravity of the batteries?"
   ]
  },
  {
   "cell_type": "code",
   "execution_count": 48,
   "id": "6a7367b1",
   "metadata": {},
   "outputs": [
    {
     "name": "stdout",
     "output_type": "stream",
     "text": [
      "Summary Statistics for Specific Gravity:\n",
      "count    62.000000\n",
      "mean      1.261935\n",
      "std       0.024316\n",
      "min       1.150000\n",
      "25%       1.260000\n",
      "50%       1.270000\n",
      "75%       1.275000\n",
      "max       1.280000\n",
      "Name: S.GRAVITY, dtype: float64\n"
     ]
    }
   ],
   "source": [
    "# Summary statistics for the specific gravity of the batteries\n",
    "s_gravity_summary = dataset[\"S.GRAVITY\"].describe()\n",
    "\n",
    "print(\"Summary Statistics for Specific Gravity:\")\n",
    "print(s_gravity_summary)\n"
   ]
  },
  {
   "cell_type": "markdown",
   "id": "6015ad87",
   "metadata": {},
   "source": [
    "# What is the median battery life for each status?"
   ]
  },
  {
   "cell_type": "code",
   "execution_count": 49,
   "id": "02540d4e",
   "metadata": {},
   "outputs": [
    {
     "name": "stdout",
     "output_type": "stream",
     "text": [
      "Median Battery Life for each Status:\n",
      "STATUS\n",
      "CHARGE RETEST    10\n",
      "NOT OK            9\n",
      "OK               11\n",
      "Name: BATTERY.LIFE (Month), dtype: int64\n"
     ]
    }
   ],
   "source": [
    "# Median battery life for each status\n",
    "median_battery_life = dataset.groupby(\"STATUS\")[\"BATTERY.LIFE (Month)\"].apply(lambda x: x.mode()[0])\n",
    "\n",
    "print(\"Median Battery Life for each Status:\")\n",
    "print(median_battery_life)\n"
   ]
  },
  {
   "cell_type": "markdown",
   "id": "c98b146b",
   "metadata": {},
   "source": [
    "# What is the average capacity for each battery type?"
   ]
  },
  {
   "cell_type": "code",
   "execution_count": 50,
   "id": "8227ee8a",
   "metadata": {},
   "outputs": [
    {
     "name": "stdout",
     "output_type": "stream",
     "text": [
      "Average Capacity (AH) for each Battery Type:\n",
      "Battery type (N)\n",
      "40      25.666667\n",
      "50      32.333333\n",
      "100     86.750000\n",
      "120    111.600000\n",
      "150    139.000000\n",
      "200    179.000000\n",
      "Name: CAPACITY(AH), dtype: float64\n"
     ]
    }
   ],
   "source": [
    "# Average capacity for each battery type\n",
    "average_capacity = dataset.groupby(\"Battery type (N)\")[\"CAPACITY(AH)\"].mean()\n",
    "\n",
    "print(\"Average Capacity (AH) for each Battery Type:\")\n",
    "print(average_capacity)\n"
   ]
  },
  {
   "cell_type": "markdown",
   "id": "b8221e9e",
   "metadata": {},
   "source": [
    "# What is the distribution of battery voltages in the dataset?"
   ]
  },
  {
   "cell_type": "code",
   "execution_count": 51,
   "id": "770d0c52",
   "metadata": {},
   "outputs": [
    {
     "name": "stdout",
     "output_type": "stream",
     "text": [
      "Voltage Statistics:\n",
      " count    62.000000\n",
      "mean     12.317742\n",
      "std       0.640319\n",
      "min      10.000000\n",
      "25%      12.200000\n",
      "50%      12.550000\n",
      "75%      12.800000\n",
      "max      13.100000\n",
      "Name: VOLTAGE, dtype: float64\n"
     ]
    },
    {
     "data": {
      "image/png": "[encoded data removed]",
      "text/plain": [
       "<Figure size 800x600 with 1 Axes>"
      ]
     },
     "metadata": {},
     "output_type": "display_data"
    }
   ],
   "source": [
    "# Univariate Analysis for VOLTAGE\n",
    "print(\"Voltage Statistics:\\n\", dataset['VOLTAGE'].describe())\n",
    "\n",
    "# Plotting\n",
    "plt.figure(figsize=(8, 6))\n",
    "dataset['VOLTAGE'].plot(kind='hist', bins=10, color='skyblue', edgecolor='black')\n",
    "plt.title('Distribution of Battery Voltages')\n",
    "plt.xlabel('Voltage (V)')\n",
    "plt.ylabel('Frequency')\n",
    "plt.show()\n"
   ]
  },
  {
   "cell_type": "markdown",
   "id": "238acd76",
   "metadata": {},
   "source": [
    "# What is the distribution of Cold Cranking Amps (CCA) in the dataset?"
   ]
  },
  {
   "cell_type": "code",
   "execution_count": 52,
   "id": "e31717eb",
   "metadata": {},
   "outputs": [
    {
     "name": "stdout",
     "output_type": "stream",
     "text": [
      "CCA Statistics:\n",
      " count      62.000000\n",
      "mean      734.112903\n",
      "std       321.884212\n",
      "min       110.000000\n",
      "25%       587.500000\n",
      "50%       775.000000\n",
      "75%       943.750000\n",
      "max      1300.000000\n",
      "Name: CCA, dtype: float64\n"
     ]
    },
    {
     "data": {
      "image/png": "[encoded data removed]",
      "text/plain": [
       "<Figure size 800x600 with 1 Axes>"
      ]
     },
     "metadata": {},
     "output_type": "display_data"
    }
   ],
   "source": [
    "# Univariate Analysis for CCA\n",
    "print(\"CCA Statistics:\\n\", dataset['CCA'].describe())\n",
    "\n",
    "# Plotting\n",
    "plt.figure(figsize=(8, 6))\n",
    "dataset['CCA'].plot(kind='hist', bins=10, color='skyblue', edgecolor='black')\n",
    "plt.title('Distribution of Cold Cranking Amps (CCA)')\n",
    "plt.xlabel('CCA')\n",
    "plt.ylabel('Frequency')\n",
    "plt.show()\n"
   ]
  },
  {
   "cell_type": "markdown",
   "id": "0046e91e",
   "metadata": {},
   "source": [
    "# What is the distribution of specific gravity values in the dataset?"
   ]
  },
  {
   "cell_type": "code",
   "execution_count": 53,
   "id": "7d123c59",
   "metadata": {},
   "outputs": [
    {
     "name": "stdout",
     "output_type": "stream",
     "text": [
      "Specific Gravity Statistics:\n",
      " count    62.000000\n",
      "mean      1.261935\n",
      "std       0.024316\n",
      "min       1.150000\n",
      "25%       1.260000\n",
      "50%       1.270000\n",
      "75%       1.275000\n",
      "max       1.280000\n",
      "Name: S.GRAVITY, dtype: float64\n"
     ]
    },
    {
     "data": {
      "image/png": "[encoded data removed]",
      "text/plain": [
       "<Figure size 800x600 with 1 Axes>"
      ]
     },
     "metadata": {},
     "output_type": "display_data"
    }
   ],
   "source": [
    "# Univariate Analysis for S.GRAVITY\n",
    "print(\"Specific Gravity Statistics:\\n\", dataset['S.GRAVITY'].describe())\n",
    "\n",
    "# Plotting\n",
    "plt.figure(figsize=(8, 6))\n",
    "dataset['S.GRAVITY'].plot(kind='hist', bins=10, color='skyblue', edgecolor='black')\n",
    "plt.title('Distribution of Specific Gravity')\n",
    "plt.xlabel('Specific Gravity')\n",
    "plt.ylabel('Frequency')\n",
    "plt.show()\n"
   ]
  },
  {
   "cell_type": "markdown",
   "id": "0cd78942",
   "metadata": {},
   "source": [
    "# What are the different battery life spans in the dataset and their frequencies?"
   ]
  },
  {
   "cell_type": "code",
   "execution_count": 54,
   "id": "2fd07ad1",
   "metadata": {},
   "outputs": [
    {
     "name": "stdout",
     "output_type": "stream",
     "text": [
      "Battery Life Frequencies:\n",
      " 12    6\n",
      "11    6\n",
      "10    5\n",
      "9     5\n",
      "13    5\n",
      "6     3\n",
      "7     3\n",
      "14    3\n",
      "20    3\n",
      "8     3\n",
      "22    3\n",
      "24    2\n",
      "25    2\n",
      "23    2\n",
      "18    2\n",
      "21    2\n",
      "16    2\n",
      "15    2\n",
      "19    1\n",
      "26    1\n",
      "27    1\n",
      "Name: BATTERY.LIFE (Month), dtype: int64\n"
     ]
    },
    {
     "data": {
      "image/png": "[encoded data removed]",
      "text/plain": [
       "<Figure size 800x600 with 1 Axes>"
      ]
     },
     "metadata": {},
     "output_type": "display_data"
    }
   ],
   "source": [
    "# Univariate Analysis for BATTERY.LIFE\n",
    "battery_life_counts = dataset['BATTERY.LIFE (Month)'].value_counts()\n",
    "print(\"Battery Life Frequencies:\\n\", battery_life_counts)\n",
    "\n",
    "# Plotting\n",
    "plt.figure(figsize=(8, 6))\n",
    "battery_life_counts.plot(kind='bar', color='skyblue')\n",
    "plt.title('Frequency of Battery Life Spans')\n",
    "plt.xlabel('Battery Life')\n",
    "plt.ylabel('Frequency')\n",
    "plt.xticks(rotation=0)\n",
    "plt.show()\n"
   ]
  },
  {
   "cell_type": "markdown",
   "id": "d60ad452",
   "metadata": {},
   "source": [
    "# What is the distribution of battery capacities (AH) in the dataset?"
   ]
  },
  {
   "cell_type": "code",
   "execution_count": 55,
   "id": "c74ca5e1",
   "metadata": {},
   "outputs": [
    {
     "name": "stdout",
     "output_type": "stream",
     "text": [
      "Battery Capacity (AH) Statistics:\n",
      " count     62.000000\n",
      "mean     102.887097\n",
      "std       49.352232\n",
      "min       10.000000\n",
      "25%       80.000000\n",
      "50%       98.000000\n",
      "75%      137.250000\n",
      "max      200.000000\n",
      "Name: CAPACITY(AH), dtype: float64\n"
     ]
    },
    {
     "data": {
      "image/png": "[encoded data removed]",
      "text/plain": [
       "<Figure size 800x600 with 1 Axes>"
      ]
     },
     "metadata": {},
     "output_type": "display_data"
    }
   ],
   "source": [
    "# Univariate Analysis for CAPACITY(AH)\n",
    "print(\"Battery Capacity (AH) Statistics:\\n\", dataset['CAPACITY(AH)'].describe())\n",
    "\n",
    "# Plotting\n",
    "plt.figure(figsize=(8, 6))\n",
    "dataset['CAPACITY(AH)'].plot(kind='hist', bins=10, color='skyblue', edgecolor='black')\n",
    "plt.title('Distribution of Battery Capacities (AH)')\n",
    "plt.xlabel('Capacity (AH)')\n",
    "plt.ylabel('Frequency')\n",
    "plt.show()\n"
   ]
  },
  {
   "cell_type": "markdown",
   "id": "67f78df5",
   "metadata": {},
   "source": [
    "# What are the different status values of batteries in the dataset and their frequencies?"
   ]
  },
  {
   "cell_type": "code",
   "execution_count": 56,
   "id": "57fd694e",
   "metadata": {},
   "outputs": [
    {
     "name": "stdout",
     "output_type": "stream",
     "text": [
      "Battery Status Frequencies:\n",
      " OK               34\n",
      "NOT OK           14\n",
      "CHARGE RETEST    14\n",
      "Name: STATUS, dtype: int64\n"
     ]
    },
    {
     "data": {
      "image/png": "[encoded data removed]",
      "text/plain": [
       "<Figure size 800x600 with 1 Axes>"
      ]
     },
     "metadata": {},
     "output_type": "display_data"
    }
   ],
   "source": [
    "# Univariate Analysis for STATUS\n",
    "status_counts = dataset['STATUS'].value_counts()\n",
    "print(\"Battery Status Frequencies:\\n\", status_counts)\n",
    "\n",
    "# Plotting\n",
    "plt.figure(figsize=(8, 6))\n",
    "status_counts.plot(kind='bar', color='skyblue')\n",
    "plt.title('Frequency of Battery Status')\n",
    "plt.xlabel('Status')\n",
    "plt.ylabel('Frequency')\n",
    "plt.xticks(rotation=0)\n",
    "plt.show()\n"
   ]
  },
  {
   "cell_type": "code",
   "execution_count": 57,
   "id": "ac162f46",
   "metadata": {},
   "outputs": [
    {
     "name": "stdout",
     "output_type": "stream",
     "text": [
      "    STATUS_CHARGE RETEST  STATUS_NOT OK  STATUS_OK\n",
      "0                      0              0          1\n",
      "1                      0              1          0\n",
      "2                      1              0          0\n",
      "3                      0              0          1\n",
      "4                      0              1          0\n",
      "..                   ...            ...        ...\n",
      "57                     0              0          1\n",
      "58                     0              0          1\n",
      "59                     0              1          0\n",
      "60                     1              0          0\n",
      "61                     0              0          1\n",
      "\n",
      "[62 rows x 3 columns]\n",
      "\n",
      "Battery Type Frequencies:\n",
      " 100    20\n",
      "120    10\n",
      "150    10\n",
      "200    10\n",
      "40      6\n",
      "50      6\n",
      "Name: Battery type (N), dtype: int64\n"
     ]
    },
    {
     "data": {
      "image/png": "[encoded data removed]",
      "text/plain": [
       "<Figure size 800x600 with 1 Axes>"
      ]
     },
     "metadata": {},
     "output_type": "display_data"
    }
   ],
   "source": [
    "# One-Hot Encoding\n",
    "dataset = pd.get_dummies(dataset, columns=['STATUS'], prefix='STATUS')\n",
    "\n",
    "# Show the encoded status\n",
    "print(dataset.filter(regex='STATUS_'))\n",
    "\n",
    "# Univariate Analysis for Battery Type (N)\n",
    "battery_type_counts = dataset['Battery type (N)'].value_counts()\n",
    "print(\"\\nBattery Type Frequencies:\\n\", battery_type_counts)\n",
    "\n",
    "# Plotting\n",
    "plt.figure(figsize=(8, 6))\n",
    "battery_type_counts.plot(kind='bar', color='skyblue')\n",
    "plt.title('Frequency of Battery Types')\n",
    "plt.xlabel('Battery Type (N)')\n",
    "plt.ylabel('Frequency')\n",
    "plt.xticks(rotation=0)\n",
    "plt.show()\n"
   ]
  },
  {
   "cell_type": "code",
   "execution_count": null,
   "id": "27913b32",
   "metadata": {},
   "outputs": [],
   "source": []
  }
 ],
 "metadata": {
  "kernelspec": {
   "display_name": "Python 3 (ipykernel)",
   "language": "python",
   "name": "python3"
  },
  "language_info": {
   "codemirror_mode": {
    "name": "ipython",
    "version": 3
   },
   "file_extension": ".py",
   "mimetype": "text/x-python",
   "name": "python",
   "nbconvert_exporter": "python",
   "pygments_lexer": "ipython3",
   "version": "3.7.6"
  }
 },
 "nbformat": 4,
 "nbformat_minor": 5
}
